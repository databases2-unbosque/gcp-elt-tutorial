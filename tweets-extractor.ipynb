{
 "cells": [
  {
   "cell_type": "code",
   "execution_count": null,
   "metadata": {},
   "outputs": [],
   "source": [
    "!pip install tweepy\n",
    "!pip install --upgrade google-cloud-storage\n",
    "!pip install --upgrade google-cloud-pubsub"
   ]
  },
  {
   "cell_type": "markdown",
   "metadata": {},
   "source": [
    "# Tweets extractor"
   ]
  },
  {
   "cell_type": "code",
   "execution_count": null,
   "metadata": {},
   "outputs": [],
   "source": [
    "import time\n",
    "import json\n",
    "from random import randint\n",
    "\n",
    "import tweepy\n",
    "\n",
    "from google.cloud import storage\n",
    "from google.cloud import pubsub_v1"
   ]
  },
  {
   "cell_type": "markdown",
   "metadata": {},
   "source": [
    "### Utils functions"
   ]
  },
  {
   "cell_type": "code",
   "execution_count": null,
   "metadata": {},
   "outputs": [],
   "source": [
    "# Function to write a json as a file in the bucket\n",
    "def write_to_bucket(json_object, filename):\n",
    "    # Creating a blob\n",
    "    blob = bucket.blob(filename + '.json')\n",
    "    # Uploading the blob \n",
    "    blob.upload_from_string(data = json.dumps(json_object), content_type = 'application/json')\n",
    "    return { 'response': filename + ' upload complete' }"
   ]
  },
  {
   "cell_type": "code",
   "execution_count": null,
   "metadata": {},
   "outputs": [],
   "source": [
    "# Function to publish a message in Pub/Sub topic\n",
    "def publish_message(message):\n",
    "    future = publisher_client.publish(topic_path, message.encode('utf-8'))\n",
    "    return { 'response': future.result() + ' message published' } "
   ]
  },
  {
   "cell_type": "markdown",
   "metadata": {},
   "source": [
    "### Connecting to Twitter API"
   ]
  },
  {
   "cell_type": "code",
   "execution_count": null,
   "metadata": {},
   "outputs": [],
   "source": [
    "# Twitter credentials\n",
    "API_KEY = ''\n",
    "API_SECRET_KEY = ''\n",
    "\n",
    "ACCESS_TOKEN = ''\n",
    "ACCESS_TOKEN_SECRET = ''"
   ]
  },
  {
   "cell_type": "code",
   "execution_count": null,
   "metadata": {},
   "outputs": [],
   "source": [
    "# Creating authentication object\n",
    "auth = tweepy.OAuthHandler(API_KEY, API_SECRET_KEY)\n",
    "auth.set_access_token(ACCESS_TOKEN, ACCESS_TOKEN_SECRET)"
   ]
  },
  {
   "cell_type": "code",
   "execution_count": null,
   "metadata": {},
   "outputs": [],
   "source": [
    "# Connecting to Twitter API\n",
    "api = tweepy.API(auth)"
   ]
  },
  {
   "cell_type": "markdown",
   "metadata": {},
   "source": [
    "### Connecting to Google Cloud Storage"
   ]
  },
  {
   "cell_type": "code",
   "execution_count": null,
   "metadata": {},
   "outputs": [],
   "source": [
    "# Creating the Storage client\n",
    "storage_client = storage.Client.from_service_account_json('unbosque.json')"
   ]
  },
  {
   "cell_type": "code",
   "execution_count": null,
   "metadata": {},
   "outputs": [],
   "source": [
    "# Bucket for store the tweets\n",
    "BUCKET_NAME = 'tweets-lake'\n",
    "bucket = storage_client.get_bucket(BUCKET_NAME)"
   ]
  },
  {
   "cell_type": "markdown",
   "metadata": {},
   "source": [
    "### Connecting to Google Cloud Pub/Sub"
   ]
  },
  {
   "cell_type": "code",
   "execution_count": null,
   "metadata": {},
   "outputs": [],
   "source": [
    "PROJECT_ID = 'unbosque'\n",
    "TOPIC = 'new-tweet-notify'"
   ]
  },
  {
   "cell_type": "code",
   "execution_count": null,
   "metadata": {},
   "outputs": [],
   "source": [
    "# Creating the Pub/Sub publisher client\n",
    "publisher_client = pubsub_v1.PublisherClient.from_service_account_json('unbosque.json')"
   ]
  },
  {
   "cell_type": "code",
   "execution_count": null,
   "metadata": {},
   "outputs": [],
   "source": [
    "# Instantiating the topic path\n",
    "topic_path = publisher_client.topic_path(PROJECT_ID, TOPIC)"
   ]
  },
  {
   "cell_type": "markdown",
   "metadata": {},
   "source": [
    "### Extracting and loading tweets"
   ]
  },
  {
   "cell_type": "code",
   "execution_count": null,
   "metadata": {},
   "outputs": [],
   "source": [
    "id = None\n",
    "while True:\n",
    "    try:\n",
    "        # Getting tweets: https://docs.tweepy.org/en/latest/api.html#tweepy.API.search_tweets\n",
    "        tweets = api.search_tweets(q = 'elecciones colombia', tweet_mode = 'extended', lang = 'es', max_id = id)\n",
    "        \n",
    "        # Iterating over a page of tweets\n",
    "        for tweet in tweets:\n",
    "            tweet_dict = tweet._json\n",
    "            \n",
    "            if not tweet_dict['full_text'].startswith('RT'): # Avoiding RTs\n",
    "                # Storing the tweet on the bucket\n",
    "                print(write_to_bucket(tweet_dict, tweet_dict['id_str']))\n",
    "                \n",
    "                # Publishing the tweet on the Pub/Sub topic\n",
    "                print(publish_message(json.dumps(tweet_dict)))\n",
    "                \n",
    "                # Simulating streaming\n",
    "                time.sleep(randint(1, 10))\n",
    "            \n",
    "        id = tweet.id\n",
    "    except tweepy.TooManyRequests:\n",
    "        print('Too many requests. Sleeping...')\n",
    "        time.sleep(600)\n",
    "        print('Getting back to action!')\n",
    "        pass"
   ]
  },
  {
   "cell_type": "code",
   "execution_count": null,
   "metadata": {},
   "outputs": [],
   "source": []
  }
 ],
 "metadata": {
  "kernelspec": {
   "display_name": "Python 3",
   "language": "python",
   "name": "python3"
  },
  "language_info": {
   "codemirror_mode": {
    "name": "ipython",
    "version": 3
   },
   "file_extension": ".py",
   "mimetype": "text/x-python",
   "name": "python",
   "nbconvert_exporter": "python",
   "pygments_lexer": "ipython3",
   "version": "3.7.6"
  }
 },
 "nbformat": 4,
 "nbformat_minor": 4
}
